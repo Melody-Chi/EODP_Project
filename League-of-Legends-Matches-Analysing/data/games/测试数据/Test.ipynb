{
 "cells": [
  {
   "cell_type": "markdown",
   "metadata": {},
   "source": [
    "k-NN via sklearn"
   ]
  },
  {
   "cell_type": "code",
   "execution_count": 3,
   "metadata": {},
   "outputs": [],
   "source": [
    "import pandas as pd\n",
    "import numpy as np\n",
    "import matplotlib.pyplot as plt\n",
    "\n",
    "# open the dataset of each region and convert into dataframe\n",
    "f = open('/Users/melody/Desktop/EOPD-Asmt2/League-of-Legends-Matches-Analysing/data/a2/games/EUmatch.csv', \"r\")\n",
    "EU = pd.read_csv(f)\n",
    "EU = pd.DataFrame(EU)\n",
    "\n",
    "f = open('/Users/melody/Desktop/EOPD-Asmt2/League-of-Legends-Matches-Analysing/data/a2/games/KRmatch.csv', \"r\")\n",
    "KR = pd.read_csv(f)\n",
    "KR = pd.DataFrame(KR)\n",
    "\n",
    "f = open('/Users/melody/Desktop/EOPD-Asmt2/League-of-Legends-Matches-Analysing/data/a2/games/NAmatch.csv', \"r\")\n",
    "NA = pd.read_csv(f)\n",
    "NA = pd.DataFrame(NA)\n"
   ]
  }
 ],
 "metadata": {
  "kernelspec": {
   "display_name": "Python 3.10.7 64-bit",
   "language": "python",
   "name": "python3"
  },
  "language_info": {
   "codemirror_mode": {
    "name": "ipython",
    "version": 3
   },
   "file_extension": ".py",
   "mimetype": "text/x-python",
   "name": "python",
   "nbconvert_exporter": "python",
   "pygments_lexer": "ipython3",
   "version": "3.10.7"
  },
  "orig_nbformat": 4,
  "vscode": {
   "interpreter": {
    "hash": "aee8b7b246df8f9039afb4144a1f6fd8d2ca17a180786b69acc140d282b71a49"
   }
  }
 },
 "nbformat": 4,
 "nbformat_minor": 2
}
